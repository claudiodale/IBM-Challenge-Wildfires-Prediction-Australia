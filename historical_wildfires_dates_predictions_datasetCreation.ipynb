{
 "cells": [
  {
   "cell_type": "code",
   "execution_count": 138,
   "metadata": {},
   "outputs": [],
   "source": [
    "import pandas as pd\n",
    "import seaborn as sns\n",
    "import numpy as np\n",
    "import matplotlib.pyplot as plt\n",
    "from datetime import datetime, timedelta\n",
    "from datetime import date as datetime_date\n",
    "import warnings\n",
    "warnings.filterwarnings('ignore')"
   ]
  },
  {
   "cell_type": "code",
   "execution_count": null,
   "metadata": {},
   "outputs": [],
   "source": [
    "#importing historical wildfires dataset and adding missing dates (days with no fires)"
   ]
  },
  {
   "cell_type": "code",
   "execution_count": 139,
   "metadata": {},
   "outputs": [],
   "source": [
    "wildFiresDF = pd.read_csv('Historical_Wildfires.csv')\n",
    "wildFiresDF[\"Date\"] = pd.to_datetime(wildFiresDF.Date)\n",
    "\n",
    "# Insert missing date for each territory\n",
    "t = np.arange(wildFiresDF.Date.min(), '2021-01-30', timedelta(days=1)).astype(datetime)\n",
    "df_date=pd.DataFrame(t).rename(columns={0:'Date'})\n",
    "wildFiresDF_complete = pd.DataFrame()\n",
    "Region = wildFiresDF.Region.unique()\n",
    "\n",
    "for i in Region:\n",
    "    df = df_date.merge(wildFiresDF[wildFiresDF.Region==i],how='left',on='Date')\n",
    "    df['Region'] = df['Region'].fillna(i) \n",
    "    wildFiresDF_complete = pd.concat([wildFiresDF_complete,df])\n",
    "    \n",
    "\n",
    "    \n"
   ]
  },
  {
   "cell_type": "code",
   "execution_count": 1,
   "metadata": {},
   "outputs": [],
   "source": [
    "#checking time range in the dataset"
   ]
  },
  {
   "cell_type": "code",
   "execution_count": 140,
   "metadata": {},
   "outputs": [
    {
     "data": {
      "text/plain": [
       "(Timestamp('2021-01-29 00:00:00'), Timestamp('2005-01-01 00:00:00'))"
      ]
     },
     "execution_count": 140,
     "metadata": {},
     "output_type": "execute_result"
    }
   ],
   "source": [
    "wildFiresDF_complete.Date.max(), wildFiresDF_complete.Date.min()"
   ]
  },
  {
   "cell_type": "code",
   "execution_count": 141,
   "metadata": {},
   "outputs": [],
   "source": [
    "# Compute year / month / day variables\n",
    "\n",
    "wildFiresDF_complete['year']=wildFiresDF_complete['Date'].dt.year\n",
    "wildFiresDF_complete['month']=wildFiresDF_complete['Date'].dt.month\n",
    "wildFiresDF_complete['day']=wildFiresDF_complete['Date'].dt.day\n",
    "\n",
    "# add count_nan for the visualization\n",
    "wildFiresDF_complete['count_nan']=wildFiresDF_complete['Estimated_fire_area'].\\\n",
    "apply(lambda x: 1 if np.isnan(x) == True else 0)\n",
    "\n",
    "# fill the nan values of the variables\n",
    "wildFiresDF_complete['Estimated_fire_area']=wildFiresDF_complete['Estimated_fire_area'].fillna(0)\n",
    "wildFiresDF_complete['Mean_estimated_fire_brightness']=wildFiresDF_complete['Mean_estimated_fire_brightness'].fillna(0)\n",
    "wildFiresDF_complete['Mean_estimated_fire_radiative_power']=wildFiresDF_complete['Mean_estimated_fire_radiative_power'].fillna(0)\n",
    "wildFiresDF_complete['Mean_confidence']=wildFiresDF_complete['Mean_confidence'].fillna(0)\n",
    "wildFiresDF_complete['Count']=wildFiresDF_complete['Count'].fillna(0)\n",
    "wildFiresDF_complete['Replaced']=wildFiresDF_complete['Replaced'].fillna('N')"
   ]
  },
  {
   "cell_type": "code",
   "execution_count": 2,
   "metadata": {},
   "outputs": [],
   "source": [
    "#checking the shape of the dataset"
   ]
  },
  {
   "cell_type": "code",
   "execution_count": 143,
   "metadata": {},
   "outputs": [
    {
     "data": {
      "text/plain": [
       "(41111, 14)"
      ]
     },
     "execution_count": 143,
     "metadata": {},
     "output_type": "execute_result"
    }
   ],
   "source": [
    "wildFiresDF_complete.shape"
   ]
  },
  {
   "cell_type": "code",
   "execution_count": 3,
   "metadata": {},
   "outputs": [],
   "source": [
    "#checking the dataset"
   ]
  },
  {
   "cell_type": "code",
   "execution_count": 144,
   "metadata": {},
   "outputs": [
    {
     "data": {
      "text/html": [
       "<div>\n",
       "<style scoped>\n",
       "    .dataframe tbody tr th:only-of-type {\n",
       "        vertical-align: middle;\n",
       "    }\n",
       "\n",
       "    .dataframe tbody tr th {\n",
       "        vertical-align: top;\n",
       "    }\n",
       "\n",
       "    .dataframe thead th {\n",
       "        text-align: right;\n",
       "    }\n",
       "</style>\n",
       "<table border=\"1\" class=\"dataframe\">\n",
       "  <thead>\n",
       "    <tr style=\"text-align: right;\">\n",
       "      <th></th>\n",
       "      <th>Date</th>\n",
       "      <th>Region</th>\n",
       "      <th>Estimated_fire_area</th>\n",
       "      <th>Mean_estimated_fire_brightness</th>\n",
       "      <th>Mean_estimated_fire_radiative_power</th>\n",
       "      <th>Mean_confidence</th>\n",
       "      <th>Std_confidence</th>\n",
       "      <th>Var_confidence</th>\n",
       "      <th>Count</th>\n",
       "      <th>Replaced</th>\n",
       "      <th>year</th>\n",
       "      <th>month</th>\n",
       "      <th>day</th>\n",
       "      <th>count_nan</th>\n",
       "    </tr>\n",
       "  </thead>\n",
       "  <tbody>\n",
       "    <tr>\n",
       "      <th>0</th>\n",
       "      <td>2005-01-01</td>\n",
       "      <td>NSW</td>\n",
       "      <td>0.00000</td>\n",
       "      <td>0.000000</td>\n",
       "      <td>0.0000</td>\n",
       "      <td>0.000000</td>\n",
       "      <td>NaN</td>\n",
       "      <td>NaN</td>\n",
       "      <td>0.0</td>\n",
       "      <td>N</td>\n",
       "      <td>2005</td>\n",
       "      <td>1</td>\n",
       "      <td>1</td>\n",
       "      <td>1</td>\n",
       "    </tr>\n",
       "    <tr>\n",
       "      <th>1</th>\n",
       "      <td>2005-01-02</td>\n",
       "      <td>NSW</td>\n",
       "      <td>0.00000</td>\n",
       "      <td>0.000000</td>\n",
       "      <td>0.0000</td>\n",
       "      <td>0.000000</td>\n",
       "      <td>NaN</td>\n",
       "      <td>NaN</td>\n",
       "      <td>0.0</td>\n",
       "      <td>N</td>\n",
       "      <td>2005</td>\n",
       "      <td>1</td>\n",
       "      <td>2</td>\n",
       "      <td>1</td>\n",
       "    </tr>\n",
       "    <tr>\n",
       "      <th>2</th>\n",
       "      <td>2005-01-03</td>\n",
       "      <td>NSW</td>\n",
       "      <td>0.00000</td>\n",
       "      <td>0.000000</td>\n",
       "      <td>0.0000</td>\n",
       "      <td>0.000000</td>\n",
       "      <td>NaN</td>\n",
       "      <td>NaN</td>\n",
       "      <td>0.0</td>\n",
       "      <td>N</td>\n",
       "      <td>2005</td>\n",
       "      <td>1</td>\n",
       "      <td>3</td>\n",
       "      <td>1</td>\n",
       "    </tr>\n",
       "    <tr>\n",
       "      <th>3</th>\n",
       "      <td>2005-01-04</td>\n",
       "      <td>NSW</td>\n",
       "      <td>8.68000</td>\n",
       "      <td>312.266667</td>\n",
       "      <td>42.4000</td>\n",
       "      <td>78.666667</td>\n",
       "      <td>2.886751</td>\n",
       "      <td>8.333333</td>\n",
       "      <td>3.0</td>\n",
       "      <td>R</td>\n",
       "      <td>2005</td>\n",
       "      <td>1</td>\n",
       "      <td>4</td>\n",
       "      <td>0</td>\n",
       "    </tr>\n",
       "    <tr>\n",
       "      <th>4</th>\n",
       "      <td>2005-01-05</td>\n",
       "      <td>NSW</td>\n",
       "      <td>16.61125</td>\n",
       "      <td>322.475000</td>\n",
       "      <td>62.3625</td>\n",
       "      <td>85.500000</td>\n",
       "      <td>8.088793</td>\n",
       "      <td>65.428571</td>\n",
       "      <td>8.0</td>\n",
       "      <td>R</td>\n",
       "      <td>2005</td>\n",
       "      <td>1</td>\n",
       "      <td>5</td>\n",
       "      <td>0</td>\n",
       "    </tr>\n",
       "  </tbody>\n",
       "</table>\n",
       "</div>"
      ],
      "text/plain": [
       "        Date Region  Estimated_fire_area  Mean_estimated_fire_brightness  \\\n",
       "0 2005-01-01    NSW              0.00000                        0.000000   \n",
       "1 2005-01-02    NSW              0.00000                        0.000000   \n",
       "2 2005-01-03    NSW              0.00000                        0.000000   \n",
       "3 2005-01-04    NSW              8.68000                      312.266667   \n",
       "4 2005-01-05    NSW             16.61125                      322.475000   \n",
       "\n",
       "   Mean_estimated_fire_radiative_power  Mean_confidence  Std_confidence  \\\n",
       "0                               0.0000         0.000000             NaN   \n",
       "1                               0.0000         0.000000             NaN   \n",
       "2                               0.0000         0.000000             NaN   \n",
       "3                              42.4000        78.666667        2.886751   \n",
       "4                              62.3625        85.500000        8.088793   \n",
       "\n",
       "   Var_confidence  Count Replaced  year  month  day  count_nan  \n",
       "0             NaN    0.0        N  2005      1    1          1  \n",
       "1             NaN    0.0        N  2005      1    2          1  \n",
       "2             NaN    0.0        N  2005      1    3          1  \n",
       "3        8.333333    3.0        R  2005      1    4          0  \n",
       "4       65.428571    8.0        R  2005      1    5          0  "
      ]
     },
     "execution_count": 144,
     "metadata": {},
     "output_type": "execute_result"
    }
   ],
   "source": [
    "wildFiresDF_complete.head()"
   ]
  },
  {
   "cell_type": "code",
   "execution_count": 4,
   "metadata": {},
   "outputs": [],
   "source": [
    "#adding predictions dates to the dataset (30th January, 31st January, 1st February)"
   ]
  },
  {
   "cell_type": "code",
   "execution_count": 145,
   "metadata": {},
   "outputs": [],
   "source": [
    "# Insert missing date for each territory\n",
    "tdate_pred = np.arange(wildFiresDF_complete.Date.min(), '2021-02-02', timedelta(days=1)).astype(datetime)\n",
    "df_date_pred=pd.DataFrame(tdate_pred).rename(columns={0:'Date'})\n",
    "wildFiresDF_complete_pred = pd.DataFrame()\n",
    "Region = wildFiresDF_complete.Region.unique()\n",
    "\n",
    "for i in Region:\n",
    "    df_pred = df_date_pred.merge(wildFiresDF_complete[wildFiresDF_complete.Region==i],how='left',on='Date')\n",
    "    df_pred['Region'] = df_pred['Region'].fillna(i) \n",
    "    wildFiresDF_complete_pred = pd.concat([wildFiresDF_complete_pred,df_pred])"
   ]
  },
  {
   "cell_type": "code",
   "execution_count": 5,
   "metadata": {},
   "outputs": [],
   "source": [
    "#checking the new shape (21 one rows have been added...7 rows for each day for three days)"
   ]
  },
  {
   "cell_type": "code",
   "execution_count": 146,
   "metadata": {},
   "outputs": [
    {
     "data": {
      "text/plain": [
       "(41132, 14)"
      ]
     },
     "execution_count": 146,
     "metadata": {},
     "output_type": "execute_result"
    }
   ],
   "source": [
    "wildFiresDF_complete_pred.shape"
   ]
  },
  {
   "cell_type": "code",
   "execution_count": 147,
   "metadata": {},
   "outputs": [
    {
     "data": {
      "text/html": [
       "<div>\n",
       "<style scoped>\n",
       "    .dataframe tbody tr th:only-of-type {\n",
       "        vertical-align: middle;\n",
       "    }\n",
       "\n",
       "    .dataframe tbody tr th {\n",
       "        vertical-align: top;\n",
       "    }\n",
       "\n",
       "    .dataframe thead th {\n",
       "        text-align: right;\n",
       "    }\n",
       "</style>\n",
       "<table border=\"1\" class=\"dataframe\">\n",
       "  <thead>\n",
       "    <tr style=\"text-align: right;\">\n",
       "      <th></th>\n",
       "      <th>Date</th>\n",
       "      <th>Region</th>\n",
       "      <th>Estimated_fire_area</th>\n",
       "      <th>Mean_estimated_fire_brightness</th>\n",
       "      <th>Mean_estimated_fire_radiative_power</th>\n",
       "      <th>Mean_confidence</th>\n",
       "      <th>Std_confidence</th>\n",
       "      <th>Var_confidence</th>\n",
       "      <th>Count</th>\n",
       "      <th>Replaced</th>\n",
       "      <th>year</th>\n",
       "      <th>month</th>\n",
       "      <th>day</th>\n",
       "      <th>count_nan</th>\n",
       "    </tr>\n",
       "  </thead>\n",
       "  <tbody>\n",
       "    <tr>\n",
       "      <th>5871</th>\n",
       "      <td>2021-01-28</td>\n",
       "      <td>WA</td>\n",
       "      <td>13.824</td>\n",
       "      <td>330.595</td>\n",
       "      <td>61.65</td>\n",
       "      <td>90.0</td>\n",
       "      <td>8.11035</td>\n",
       "      <td>65.777778</td>\n",
       "      <td>10.0</td>\n",
       "      <td>N</td>\n",
       "      <td>2021.0</td>\n",
       "      <td>1.0</td>\n",
       "      <td>28.0</td>\n",
       "      <td>0.0</td>\n",
       "    </tr>\n",
       "    <tr>\n",
       "      <th>5872</th>\n",
       "      <td>2021-01-29</td>\n",
       "      <td>WA</td>\n",
       "      <td>0.000</td>\n",
       "      <td>0.000</td>\n",
       "      <td>0.00</td>\n",
       "      <td>0.0</td>\n",
       "      <td>NaN</td>\n",
       "      <td>NaN</td>\n",
       "      <td>0.0</td>\n",
       "      <td>N</td>\n",
       "      <td>2021.0</td>\n",
       "      <td>1.0</td>\n",
       "      <td>29.0</td>\n",
       "      <td>1.0</td>\n",
       "    </tr>\n",
       "    <tr>\n",
       "      <th>5873</th>\n",
       "      <td>2021-01-30</td>\n",
       "      <td>WA</td>\n",
       "      <td>NaN</td>\n",
       "      <td>NaN</td>\n",
       "      <td>NaN</td>\n",
       "      <td>NaN</td>\n",
       "      <td>NaN</td>\n",
       "      <td>NaN</td>\n",
       "      <td>NaN</td>\n",
       "      <td>NaN</td>\n",
       "      <td>NaN</td>\n",
       "      <td>NaN</td>\n",
       "      <td>NaN</td>\n",
       "      <td>NaN</td>\n",
       "    </tr>\n",
       "    <tr>\n",
       "      <th>5874</th>\n",
       "      <td>2021-01-31</td>\n",
       "      <td>WA</td>\n",
       "      <td>NaN</td>\n",
       "      <td>NaN</td>\n",
       "      <td>NaN</td>\n",
       "      <td>NaN</td>\n",
       "      <td>NaN</td>\n",
       "      <td>NaN</td>\n",
       "      <td>NaN</td>\n",
       "      <td>NaN</td>\n",
       "      <td>NaN</td>\n",
       "      <td>NaN</td>\n",
       "      <td>NaN</td>\n",
       "      <td>NaN</td>\n",
       "    </tr>\n",
       "    <tr>\n",
       "      <th>5875</th>\n",
       "      <td>2021-02-01</td>\n",
       "      <td>WA</td>\n",
       "      <td>NaN</td>\n",
       "      <td>NaN</td>\n",
       "      <td>NaN</td>\n",
       "      <td>NaN</td>\n",
       "      <td>NaN</td>\n",
       "      <td>NaN</td>\n",
       "      <td>NaN</td>\n",
       "      <td>NaN</td>\n",
       "      <td>NaN</td>\n",
       "      <td>NaN</td>\n",
       "      <td>NaN</td>\n",
       "      <td>NaN</td>\n",
       "    </tr>\n",
       "  </tbody>\n",
       "</table>\n",
       "</div>"
      ],
      "text/plain": [
       "           Date Region  Estimated_fire_area  Mean_estimated_fire_brightness  \\\n",
       "5871 2021-01-28     WA               13.824                         330.595   \n",
       "5872 2021-01-29     WA                0.000                           0.000   \n",
       "5873 2021-01-30     WA                  NaN                             NaN   \n",
       "5874 2021-01-31     WA                  NaN                             NaN   \n",
       "5875 2021-02-01     WA                  NaN                             NaN   \n",
       "\n",
       "      Mean_estimated_fire_radiative_power  Mean_confidence  Std_confidence  \\\n",
       "5871                                61.65             90.0         8.11035   \n",
       "5872                                 0.00              0.0             NaN   \n",
       "5873                                  NaN              NaN             NaN   \n",
       "5874                                  NaN              NaN             NaN   \n",
       "5875                                  NaN              NaN             NaN   \n",
       "\n",
       "      Var_confidence  Count Replaced    year  month   day  count_nan  \n",
       "5871       65.777778   10.0        N  2021.0    1.0  28.0        0.0  \n",
       "5872             NaN    0.0        N  2021.0    1.0  29.0        1.0  \n",
       "5873             NaN    NaN      NaN     NaN    NaN   NaN        NaN  \n",
       "5874             NaN    NaN      NaN     NaN    NaN   NaN        NaN  \n",
       "5875             NaN    NaN      NaN     NaN    NaN   NaN        NaN  "
      ]
     },
     "execution_count": 147,
     "metadata": {},
     "output_type": "execute_result"
    }
   ],
   "source": [
    "wildFiresDF_complete_pred.tail()"
   ]
  },
  {
   "cell_type": "code",
   "execution_count": 6,
   "metadata": {},
   "outputs": [],
   "source": [
    "#checking that 7 rows for each day (30,31 january, 1st february)"
   ]
  },
  {
   "cell_type": "code",
   "execution_count": 148,
   "metadata": {},
   "outputs": [
    {
     "data": {
      "text/plain": [
       "7"
      ]
     },
     "execution_count": 148,
     "metadata": {},
     "output_type": "execute_result"
    }
   ],
   "source": [
    "len(wildFiresDF_complete_pred.loc[wildFiresDF_complete_pred.Date == \"2021-02-01\"])"
   ]
  },
  {
   "cell_type": "code",
   "execution_count": 149,
   "metadata": {},
   "outputs": [
    {
     "data": {
      "text/plain": [
       "7"
      ]
     },
     "execution_count": 149,
     "metadata": {},
     "output_type": "execute_result"
    }
   ],
   "source": [
    "len(wildFiresDF_complete_pred.loc[wildFiresDF_complete_pred.Date == \"2021-01-30\"])"
   ]
  },
  {
   "cell_type": "code",
   "execution_count": 150,
   "metadata": {},
   "outputs": [
    {
     "data": {
      "text/plain": [
       "7"
      ]
     },
     "execution_count": 150,
     "metadata": {},
     "output_type": "execute_result"
    }
   ],
   "source": [
    "len(wildFiresDF_complete_pred.loc[wildFiresDF_complete_pred.Date == \"2021-01-31\"])"
   ]
  },
  {
   "cell_type": "code",
   "execution_count": 7,
   "metadata": {},
   "outputs": [],
   "source": [
    "#adding columns for year, month, day"
   ]
  },
  {
   "cell_type": "code",
   "execution_count": 175,
   "metadata": {},
   "outputs": [],
   "source": [
    "wildFiresDF_complete_pred['year']=wildFiresDF_complete_pred['Date'].dt.year\n",
    "wildFiresDF_complete_pred['month']=wildFiresDF_complete_pred['Date'].dt.month\n",
    "wildFiresDF_complete_pred['day']=wildFiresDF_complete_pred['Date'].dt.day"
   ]
  },
  {
   "cell_type": "code",
   "execution_count": 8,
   "metadata": {},
   "outputs": [],
   "source": [
    "#creating a dataframe for each region (7 dataframes overall)"
   ]
  },
  {
   "cell_type": "code",
   "execution_count": 176,
   "metadata": {},
   "outputs": [],
   "source": [
    "lista = ['NSW', 'NT', 'QL', 'SA', 'TA', 'VI', 'WA']\n",
    "\n",
    "for i in range(7):\n",
    "    index = i\n",
    "    lista[index] = wildFiresDF_complete_pred.loc[wildFiresDF_complete_pred.Region == str(lista[index])]"
   ]
  },
  {
   "cell_type": "code",
   "execution_count": 177,
   "metadata": {},
   "outputs": [],
   "source": [
    "NSW = lista[0]\n",
    "NT = lista[1]\n",
    "QL = lista[2]\n",
    "SA = lista[3]\n",
    "TA = lista[4]\n",
    "VI = lista[5]\n",
    "WA = lista[6]"
   ]
  },
  {
   "cell_type": "code",
   "execution_count": 178,
   "metadata": {},
   "outputs": [
    {
     "data": {
      "text/plain": [
       "(41132, 14)"
      ]
     },
     "execution_count": 178,
     "metadata": {},
     "output_type": "execute_result"
    }
   ],
   "source": [
    "wildFiresDF_complete_pred.shape"
   ]
  },
  {
   "cell_type": "code",
   "execution_count": 10,
   "metadata": {},
   "outputs": [],
   "source": [
    "#checking the shape of each dataframe \n",
    "#adding lag and roll variables (for fire area, brightness, radiative power and count)\n",
    "#saving the dataframe"
   ]
  },
  {
   "cell_type": "code",
   "execution_count": 179,
   "metadata": {},
   "outputs": [
    {
     "data": {
      "text/plain": [
       "(5876, 14)"
      ]
     },
     "execution_count": 179,
     "metadata": {},
     "output_type": "execute_result"
    }
   ],
   "source": [
    "NSW.shape"
   ]
  },
  {
   "cell_type": "code",
   "execution_count": 180,
   "metadata": {},
   "outputs": [],
   "source": [
    "NSW[\"fire_area_lag3\"] = NSW.Estimated_fire_area.shift(3)\n",
    "NSW[\"fire_area_mean_5\"] = NSW.Estimated_fire_area.shift(3).rolling(5).mean()\n",
    "NSW[\"fire_area_mean_10\"] = NSW.Estimated_fire_area.shift(3).rolling(10).mean()\n",
    "NSW[\"fire_area_mean_15\"] = NSW.Estimated_fire_area.shift(3).rolling(15).mean()\n",
    "NSW[\"brightness_lag3\"] = NSW.Mean_estimated_fire_brightness.shift(3)\n",
    "NSW[\"brightness_mean5\"] = NSW.Mean_estimated_fire_brightness.shift(3).rolling(5).mean()\n",
    "NSW[\"brightness_mean10\"] = NSW.Mean_estimated_fire_brightness.shift(3).rolling(10).mean()\n",
    "NSW[\"brightness_mean15\"] = NSW.Mean_estimated_fire_brightness.shift(3).rolling(15).mean()\n",
    "NSW[\"radiative_power_lag3\"] = NSW.Mean_estimated_fire_radiative_power.shift(3)\n",
    "NSW[\"radiative_power_mean5\"] = NSW.Mean_estimated_fire_radiative_power.shift(3).rolling(5).mean()\n",
    "NSW[\"radiative_power_mean10\"] = NSW.Mean_estimated_fire_radiative_power.shift(3).rolling(10).mean()\n",
    "NSW[\"radiative_power_mean15\"] = NSW.Mean_estimated_fire_radiative_power.shift(3).rolling(15).mean()\n",
    "NSW[\"count_lag3\"] = NSW.Count.shift(3)\n",
    "NSW[\"count_mean5\"] = NSW.Count.shift(3).rolling(5).mean()\n",
    "NSW[\"count_mean10\"] = NSW.Count.shift(3).rolling(10).mean()\n",
    "NSW[\"count_mean15\"] = NSW.Count.shift(3).rolling(15).mean()"
   ]
  },
  {
   "cell_type": "code",
   "execution_count": 181,
   "metadata": {},
   "outputs": [],
   "source": [
    "NSW.to_csv(\"NSW.csv\", index=False)"
   ]
  },
  {
   "cell_type": "code",
   "execution_count": 182,
   "metadata": {},
   "outputs": [
    {
     "data": {
      "text/plain": [
       "(5876, 14)"
      ]
     },
     "execution_count": 182,
     "metadata": {},
     "output_type": "execute_result"
    }
   ],
   "source": [
    "QL.shape"
   ]
  },
  {
   "cell_type": "code",
   "execution_count": 183,
   "metadata": {},
   "outputs": [],
   "source": [
    "QL[\"fire_area_lag3\"] = QL.Estimated_fire_area.shift(3)\n",
    "QL[\"fire_area_mean_5\"] = QL.Estimated_fire_area.shift(3).rolling(5).mean()\n",
    "QL[\"fire_area_mean_10\"] = QL.Estimated_fire_area.shift(3).rolling(10).mean()\n",
    "QL[\"fire_area_mean_15\"] = QL.Estimated_fire_area.shift(3).rolling(15).mean()\n",
    "QL[\"brightness_lag3\"] = QL.Mean_estimated_fire_brightness.shift(3)\n",
    "QL[\"brightness_mean5\"] = QL.Mean_estimated_fire_brightness.shift(3).rolling(5).mean()\n",
    "QL[\"brightness_mean10\"] = QL.Mean_estimated_fire_brightness.shift(3).rolling(10).mean()\n",
    "QL[\"brightness_mean15\"] = QL.Mean_estimated_fire_brightness.shift(3).rolling(15).mean()\n",
    "QL[\"radiative_power_lag3\"] = QL.Mean_estimated_fire_radiative_power.shift(3)\n",
    "QL[\"radiative_power_mean5\"] = QL.Mean_estimated_fire_radiative_power.shift(3).rolling(5).mean()\n",
    "QL[\"radiative_power_mean10\"] = QL.Mean_estimated_fire_radiative_power.shift(3).rolling(10).mean()\n",
    "QL[\"radiative_power_mean15\"] = QL.Mean_estimated_fire_radiative_power.shift(3).rolling(15).mean()\n",
    "QL[\"count_lag3\"] = QL.Count.shift(3)\n",
    "QL[\"count_mean5\"] = QL.Count.shift(3).rolling(5).mean()\n",
    "QL[\"count_mean10\"] = QL.Count.shift(3).rolling(10).mean()\n",
    "QL[\"count_mean15\"] = QL.Count.shift(3).rolling(15).mean()"
   ]
  },
  {
   "cell_type": "code",
   "execution_count": 184,
   "metadata": {},
   "outputs": [],
   "source": [
    "QL.to_csv(\"QL.csv\", index=False)"
   ]
  },
  {
   "cell_type": "code",
   "execution_count": 185,
   "metadata": {},
   "outputs": [
    {
     "data": {
      "text/plain": [
       "(5876, 14)"
      ]
     },
     "execution_count": 185,
     "metadata": {},
     "output_type": "execute_result"
    }
   ],
   "source": [
    "SA.shape"
   ]
  },
  {
   "cell_type": "code",
   "execution_count": 186,
   "metadata": {},
   "outputs": [],
   "source": [
    "SA[\"fire_area_lag3\"] = SA.Estimated_fire_area.shift(3)\n",
    "SA[\"fire_area_mean_5\"] = SA.Estimated_fire_area.shift(3).rolling(5).mean()\n",
    "SA[\"fire_area_mean_10\"] = SA.Estimated_fire_area.shift(3).rolling(10).mean()\n",
    "SA[\"fire_area_mean_15\"] = SA.Estimated_fire_area.shift(3).rolling(15).mean()\n",
    "SA[\"brightness_lag3\"] = SA.Mean_estimated_fire_brightness.shift(3)\n",
    "SA[\"brightness_mean5\"] = SA.Mean_estimated_fire_brightness.shift(3).rolling(5).mean()\n",
    "SA[\"brightness_mean10\"] = SA.Mean_estimated_fire_brightness.shift(3).rolling(10).mean()\n",
    "SA[\"brightness_mean15\"] = SA.Mean_estimated_fire_brightness.shift(3).rolling(15).mean()\n",
    "SA[\"radiative_power_lag3\"] = SA.Mean_estimated_fire_radiative_power.shift(3)\n",
    "SA[\"radiative_power_mean5\"] = SA.Mean_estimated_fire_radiative_power.shift(3).rolling(5).mean()\n",
    "SA[\"radiative_power_mean10\"] = SA.Mean_estimated_fire_radiative_power.shift(3).rolling(10).mean()\n",
    "SA[\"radiative_power_mean15\"] = SA.Mean_estimated_fire_radiative_power.shift(3).rolling(15).mean()\n",
    "SA[\"count_lag3\"] = SA.Count.shift(3)\n",
    "SA[\"count_mean5\"] = SA.Count.shift(3).rolling(5).mean()\n",
    "SA[\"count_mean10\"] = SA.Count.shift(3).rolling(10).mean()\n",
    "SA[\"count_mean15\"] = SA.Count.shift(3).rolling(15).mean()"
   ]
  },
  {
   "cell_type": "code",
   "execution_count": 187,
   "metadata": {},
   "outputs": [],
   "source": [
    "SA.to_csv(\"SA.csv\", index=False)"
   ]
  },
  {
   "cell_type": "code",
   "execution_count": 188,
   "metadata": {},
   "outputs": [
    {
     "data": {
      "text/plain": [
       "(5876, 14)"
      ]
     },
     "execution_count": 188,
     "metadata": {},
     "output_type": "execute_result"
    }
   ],
   "source": [
    "TA.shape"
   ]
  },
  {
   "cell_type": "code",
   "execution_count": 189,
   "metadata": {},
   "outputs": [],
   "source": [
    "TA[\"fire_area_lag3\"] = TA.Estimated_fire_area.shift(3)\n",
    "TA[\"fire_area_mean_5\"] = TA.Estimated_fire_area.shift(3).rolling(5).mean()\n",
    "TA[\"fire_area_mean_10\"] = TA.Estimated_fire_area.shift(3).rolling(10).mean()\n",
    "TA[\"fire_area_mean_15\"] = TA.Estimated_fire_area.shift(3).rolling(15).mean()\n",
    "TA[\"brightness_lag3\"] = TA.Mean_estimated_fire_brightness.shift(3)\n",
    "TA[\"brightness_mean5\"] = TA.Mean_estimated_fire_brightness.shift(3).rolling(5).mean()\n",
    "TA[\"brightness_mean10\"] = TA.Mean_estimated_fire_brightness.shift(3).rolling(10).mean()\n",
    "TA[\"brightness_mean15\"] = TA.Mean_estimated_fire_brightness.shift(3).rolling(15).mean()\n",
    "TA[\"radiative_power_lag3\"] = TA.Mean_estimated_fire_radiative_power.shift(3)\n",
    "TA[\"radiative_power_mean5\"] = TA.Mean_estimated_fire_radiative_power.shift(3).rolling(5).mean()\n",
    "TA[\"radiative_power_mean10\"] = TA.Mean_estimated_fire_radiative_power.shift(3).rolling(10).mean()\n",
    "TA[\"radiative_power_mean15\"] = TA.Mean_estimated_fire_radiative_power.shift(3).rolling(15).mean()\n",
    "TA[\"count_lag3\"] = TA.Count.shift(3)\n",
    "TA[\"count_mean5\"] = TA.Count.shift(3).rolling(5).mean()\n",
    "TA[\"count_mean10\"] = TA.Count.shift(3).rolling(10).mean()\n",
    "TA[\"count_mean15\"] = TA.Count.shift(3).rolling(15).mean()"
   ]
  },
  {
   "cell_type": "code",
   "execution_count": 190,
   "metadata": {},
   "outputs": [],
   "source": [
    "TA.to_csv(\"TA.csv\", index=False)"
   ]
  },
  {
   "cell_type": "code",
   "execution_count": 191,
   "metadata": {},
   "outputs": [
    {
     "data": {
      "text/plain": [
       "(5876, 14)"
      ]
     },
     "execution_count": 191,
     "metadata": {},
     "output_type": "execute_result"
    }
   ],
   "source": [
    "VI.shape"
   ]
  },
  {
   "cell_type": "code",
   "execution_count": 192,
   "metadata": {},
   "outputs": [],
   "source": [
    "VI[\"fire_area_lag3\"] = VI.Estimated_fire_area.shift(3)\n",
    "VI[\"fire_area_mean_5\"] = VI.Estimated_fire_area.shift(3).rolling(5).mean()\n",
    "VI[\"fire_area_mean_10\"] = VI.Estimated_fire_area.shift(3).rolling(10).mean()\n",
    "VI[\"fire_area_mean_15\"] = VI.Estimated_fire_area.shift(3).rolling(15).mean()\n",
    "VI[\"brightness_lag3\"] = VI.Mean_estimated_fire_brightness.shift(3)\n",
    "VI[\"brightness_mean5\"] = VI.Mean_estimated_fire_brightness.shift(3).rolling(5).mean()\n",
    "VI[\"brightness_mean10\"] = VI.Mean_estimated_fire_brightness.shift(3).rolling(10).mean()\n",
    "VI[\"brightness_mean15\"] = VI.Mean_estimated_fire_brightness.shift(3).rolling(15).mean()\n",
    "VI[\"radiative_power_lag3\"] = VI.Mean_estimated_fire_radiative_power.shift(3)\n",
    "VI[\"radiative_power_mean5\"] = VI.Mean_estimated_fire_radiative_power.shift(3).rolling(5).mean()\n",
    "VI[\"radiative_power_mean10\"] = VI.Mean_estimated_fire_radiative_power.shift(3).rolling(10).mean()\n",
    "VI[\"radiative_power_mean15\"] = VI.Mean_estimated_fire_radiative_power.shift(3).rolling(15).mean()\n",
    "VI[\"count_lag3\"] = VI.Count.shift(3)\n",
    "VI[\"count_mean5\"] = VI.Count.shift(3).rolling(5).mean()\n",
    "VI[\"count_mean10\"] = VI.Count.shift(3).rolling(10).mean()\n",
    "VI[\"count_mean15\"] = VI.Count.shift(3).rolling(15).mean()"
   ]
  },
  {
   "cell_type": "code",
   "execution_count": 193,
   "metadata": {},
   "outputs": [],
   "source": [
    "VI.to_csv(\"VI.csv\", index=False)"
   ]
  },
  {
   "cell_type": "code",
   "execution_count": 194,
   "metadata": {},
   "outputs": [
    {
     "data": {
      "text/plain": [
       "(5876, 14)"
      ]
     },
     "execution_count": 194,
     "metadata": {},
     "output_type": "execute_result"
    }
   ],
   "source": [
    "WA.shape"
   ]
  },
  {
   "cell_type": "code",
   "execution_count": 195,
   "metadata": {},
   "outputs": [],
   "source": [
    "WA[\"fire_area_lag3\"] = WA.Estimated_fire_area.shift(3)\n",
    "WA[\"fire_area_mean_5\"] = WA.Estimated_fire_area.shift(3).rolling(5).mean()\n",
    "WA[\"fire_area_mean_10\"] = WA.Estimated_fire_area.shift(3).rolling(10).mean()\n",
    "WA[\"fire_area_mean_15\"] = WA.Estimated_fire_area.shift(3).rolling(15).mean()\n",
    "WA[\"brightness_lag3\"] = WA.Mean_estimated_fire_brightness.shift(3)\n",
    "WA[\"brightness_mean5\"] = WA.Mean_estimated_fire_brightness.shift(3).rolling(5).mean()\n",
    "WA[\"brightness_mean10\"] = WA.Mean_estimated_fire_brightness.shift(3).rolling(10).mean()\n",
    "WA[\"brightness_mean15\"] = WA.Mean_estimated_fire_brightness.shift(3).rolling(15).mean()\n",
    "WA[\"radiative_power_lag3\"] = WA.Mean_estimated_fire_radiative_power.shift(3)\n",
    "WA[\"radiative_power_mean5\"] = WA.Mean_estimated_fire_radiative_power.shift(3).rolling(5).mean()\n",
    "WA[\"radiative_power_mean10\"] = WA.Mean_estimated_fire_radiative_power.shift(3).rolling(10).mean()\n",
    "WA[\"radiative_power_mean15\"] = WA.Mean_estimated_fire_radiative_power.shift(3).rolling(15).mean()\n",
    "WA[\"count_lag3\"] = WA.Count.shift(3)\n",
    "WA[\"count_mean5\"] = WA.Count.shift(3).rolling(5).mean()\n",
    "WA[\"count_mean10\"] = WA.Count.shift(3).rolling(10).mean()\n",
    "WA[\"count_mean15\"] = WA.Count.shift(3).rolling(15).mean()"
   ]
  },
  {
   "cell_type": "code",
   "execution_count": 196,
   "metadata": {},
   "outputs": [],
   "source": [
    "WA.to_csv(\"WA.csv\", index=False)"
   ]
  },
  {
   "cell_type": "code",
   "execution_count": 197,
   "metadata": {},
   "outputs": [
    {
     "data": {
      "text/plain": [
       "Index(['Date', 'Region', 'Estimated_fire_area',\n",
       "       'Mean_estimated_fire_brightness', 'Mean_estimated_fire_radiative_power',\n",
       "       'Mean_confidence', 'Std_confidence', 'Var_confidence', 'Count',\n",
       "       'Replaced', 'year', 'month', 'day', 'count_nan', 'fire_area_lag3',\n",
       "       'fire_area_mean_5', 'fire_area_mean_10', 'fire_area_mean_15',\n",
       "       'brightness_lag3', 'brightness_mean5', 'brightness_mean10',\n",
       "       'brightness_mean15', 'radiative_power_lag3', 'radiative_power_mean5',\n",
       "       'radiative_power_mean10', 'radiative_power_mean15', 'count_lag3',\n",
       "       'count_mean5', 'count_mean10', 'count_mean15'],\n",
       "      dtype='object')"
      ]
     },
     "execution_count": 197,
     "metadata": {},
     "output_type": "execute_result"
    }
   ],
   "source": [
    "WA.columns"
   ]
  },
  {
   "cell_type": "code",
   "execution_count": 198,
   "metadata": {},
   "outputs": [
    {
     "data": {
      "text/plain": [
       "(5876, 14)"
      ]
     },
     "execution_count": 198,
     "metadata": {},
     "output_type": "execute_result"
    }
   ],
   "source": [
    "NT.shape"
   ]
  },
  {
   "cell_type": "code",
   "execution_count": 199,
   "metadata": {},
   "outputs": [],
   "source": [
    "NT[\"fire_area_lag3\"] = NT.Estimated_fire_area.shift(3)\n",
    "NT[\"fire_area_mean_5\"] = NT.Estimated_fire_area.shift(3).rolling(5).mean()\n",
    "NT[\"fire_area_mean_10\"] = NT.Estimated_fire_area.shift(3).rolling(10).mean()\n",
    "NT[\"fire_area_mean_15\"] = NT.Estimated_fire_area.shift(3).rolling(15).mean()\n",
    "NT[\"brightness_lag3\"] = NT.Mean_estimated_fire_brightness.shift(3)\n",
    "NT[\"brightness_mean5\"] = NT.Mean_estimated_fire_brightness.shift(3).rolling(5).mean()\n",
    "NT[\"brightness_mean10\"] = NT.Mean_estimated_fire_brightness.shift(3).rolling(10).mean()\n",
    "NT[\"brightness_mean15\"] = NT.Mean_estimated_fire_brightness.shift(3).rolling(15).mean()\n",
    "NT[\"radiative_power_lag3\"] = NT.Mean_estimated_fire_radiative_power.shift(3)\n",
    "NT[\"radiative_power_mean5\"] = NT.Mean_estimated_fire_radiative_power.shift(3).rolling(5).mean()\n",
    "NT[\"radiative_power_mean10\"] = NT.Mean_estimated_fire_radiative_power.shift(3).rolling(10).mean()\n",
    "NT[\"radiative_power_mean15\"] = NT.Mean_estimated_fire_radiative_power.shift(3).rolling(15).mean()\n",
    "NT[\"count_lag3\"] = NT.Count.shift(3)\n",
    "NT[\"count_mean5\"] = NT.Count.shift(3).rolling(5).mean()\n",
    "NT[\"count_mean10\"] = NT.Count.shift(3).rolling(10).mean()\n",
    "NT[\"count_mean15\"] = NT.Count.shift(3).rolling(15).mean()"
   ]
  },
  {
   "cell_type": "code",
   "execution_count": 200,
   "metadata": {},
   "outputs": [],
   "source": [
    "NT.to_csv(\"NT.csv\", index=False)"
   ]
  },
  {
   "cell_type": "markdown",
   "metadata": {},
   "source": [
    "1. Each dataframe has been saved and will be imported in the main jupyter notebook to add reamaing features:\n",
    " - soilwater \n",
    " - score feature\n",
    "2. The same preprocessing applied when creating the model will be applied \n",
    "3. Predictions will be performed for the three days for each region"
   ]
  },
  {
   "cell_type": "code",
   "execution_count": null,
   "metadata": {},
   "outputs": [],
   "source": []
  }
 ],
 "metadata": {
  "kernelspec": {
   "display_name": "Python 3",
   "language": "python",
   "name": "python3"
  },
  "language_info": {
   "codemirror_mode": {
    "name": "ipython",
    "version": 3
   },
   "file_extension": ".py",
   "mimetype": "text/x-python",
   "name": "python",
   "nbconvert_exporter": "python",
   "pygments_lexer": "ipython3",
   "version": "3.8.5"
  }
 },
 "nbformat": 4,
 "nbformat_minor": 4
}
